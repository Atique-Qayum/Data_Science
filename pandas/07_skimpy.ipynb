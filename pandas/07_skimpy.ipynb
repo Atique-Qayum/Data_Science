{
 "cells": [
  {
   "cell_type": "markdown",
   "metadata": {},
   "source": [
    "# How to do skiming of the Data?"
   ]
  },
  {
   "cell_type": "code",
   "execution_count": 2,
   "metadata": {},
   "outputs": [
    {
     "name": "stdout",
     "output_type": "stream",
     "text": [
      "Requirement already satisfied: skimpy in c:\\users\\beyond\\.conda\\envs\\ydata_profiling\\lib\\site-packages (0.0.14)\n",
      "Requirement already satisfied: Pygments<3.0.0,>=2.10.0 in c:\\users\\beyond\\.conda\\envs\\ydata_profiling\\lib\\site-packages (from skimpy) (2.17.2)\n",
      "Requirement already satisfied: click<9.0.0,>=8.1.6 in c:\\users\\beyond\\.conda\\envs\\ydata_profiling\\lib\\site-packages (from skimpy) (8.1.7)\n",
      "Requirement already satisfied: ipykernel<7.0.0,>=6.7.0 in c:\\users\\beyond\\.conda\\envs\\ydata_profiling\\lib\\site-packages (from skimpy) (6.29.3)\n",
      "Requirement already satisfied: numpy<2.0.0,>=1.22.2 in c:\\users\\beyond\\.conda\\envs\\ydata_profiling\\lib\\site-packages (from skimpy) (1.25.2)\n",
      "Requirement already satisfied: pandas<3.0.0,>=2.0.3 in c:\\users\\beyond\\.conda\\envs\\ydata_profiling\\lib\\site-packages (from skimpy) (2.2.1)\n",
      "Requirement already satisfied: polars<0.21,>=0.19 in c:\\users\\beyond\\.conda\\envs\\ydata_profiling\\lib\\site-packages (from skimpy) (0.20.13)\n",
      "Requirement already satisfied: pyarrow<16,>=13 in c:\\users\\beyond\\.conda\\envs\\ydata_profiling\\lib\\site-packages (from skimpy) (15.0.0)\n",
      "Requirement already satisfied: quartodoc<0.8.0,>=0.7.2 in c:\\users\\beyond\\.conda\\envs\\ydata_profiling\\lib\\site-packages (from skimpy) (0.7.2)\n",
      "Requirement already satisfied: rich<14.0,>=10.9 in c:\\users\\beyond\\.conda\\envs\\ydata_profiling\\lib\\site-packages (from skimpy) (13.7.1)\n",
      "Requirement already satisfied: typeguard==4.1.5 in c:\\users\\beyond\\.conda\\envs\\ydata_profiling\\lib\\site-packages (from skimpy) (4.1.5)\n",
      "Requirement already satisfied: typing-extensions>=4.7.0 in c:\\users\\beyond\\.conda\\envs\\ydata_profiling\\lib\\site-packages (from typeguard==4.1.5->skimpy) (4.10.0)\n",
      "Requirement already satisfied: colorama in c:\\users\\beyond\\.conda\\envs\\ydata_profiling\\lib\\site-packages (from click<9.0.0,>=8.1.6->skimpy) (0.4.6)\n",
      "Requirement already satisfied: comm>=0.1.1 in c:\\users\\beyond\\.conda\\envs\\ydata_profiling\\lib\\site-packages (from ipykernel<7.0.0,>=6.7.0->skimpy) (0.2.1)\n",
      "Requirement already satisfied: debugpy>=1.6.5 in c:\\users\\beyond\\.conda\\envs\\ydata_profiling\\lib\\site-packages (from ipykernel<7.0.0,>=6.7.0->skimpy) (1.6.7)\n",
      "Requirement already satisfied: ipython>=7.23.1 in c:\\users\\beyond\\.conda\\envs\\ydata_profiling\\lib\\site-packages (from ipykernel<7.0.0,>=6.7.0->skimpy) (8.22.1)\n",
      "Requirement already satisfied: jupyter-client>=6.1.12 in c:\\users\\beyond\\.conda\\envs\\ydata_profiling\\lib\\site-packages (from ipykernel<7.0.0,>=6.7.0->skimpy) (8.6.0)\n",
      "Requirement already satisfied: jupyter-core!=5.0.*,>=4.12 in c:\\users\\beyond\\.conda\\envs\\ydata_profiling\\lib\\site-packages (from ipykernel<7.0.0,>=6.7.0->skimpy) (5.7.1)\n",
      "Requirement already satisfied: matplotlib-inline>=0.1 in c:\\users\\beyond\\.conda\\envs\\ydata_profiling\\lib\\site-packages (from ipykernel<7.0.0,>=6.7.0->skimpy) (0.1.6)\n",
      "Requirement already satisfied: nest-asyncio in c:\\users\\beyond\\.conda\\envs\\ydata_profiling\\lib\\site-packages (from ipykernel<7.0.0,>=6.7.0->skimpy) (1.6.0)\n",
      "Requirement already satisfied: packaging in c:\\users\\beyond\\.conda\\envs\\ydata_profiling\\lib\\site-packages (from ipykernel<7.0.0,>=6.7.0->skimpy) (23.2)\n",
      "Requirement already satisfied: psutil in c:\\users\\beyond\\.conda\\envs\\ydata_profiling\\lib\\site-packages (from ipykernel<7.0.0,>=6.7.0->skimpy) (5.9.0)\n",
      "Requirement already satisfied: pyzmq>=24 in c:\\users\\beyond\\.conda\\envs\\ydata_profiling\\lib\\site-packages (from ipykernel<7.0.0,>=6.7.0->skimpy) (25.1.2)\n",
      "Requirement already satisfied: tornado>=6.1 in c:\\users\\beyond\\.conda\\envs\\ydata_profiling\\lib\\site-packages (from ipykernel<7.0.0,>=6.7.0->skimpy) (6.2)\n",
      "Requirement already satisfied: traitlets>=5.4.0 in c:\\users\\beyond\\.conda\\envs\\ydata_profiling\\lib\\site-packages (from ipykernel<7.0.0,>=6.7.0->skimpy) (5.14.1)\n",
      "Requirement already satisfied: python-dateutil>=2.8.2 in c:\\users\\beyond\\.conda\\envs\\ydata_profiling\\lib\\site-packages (from pandas<3.0.0,>=2.0.3->skimpy) (2.8.2)\n",
      "Requirement already satisfied: pytz>=2020.1 in c:\\users\\beyond\\.conda\\envs\\ydata_profiling\\lib\\site-packages (from pandas<3.0.0,>=2.0.3->skimpy) (2024.1)\n",
      "Requirement already satisfied: tzdata>=2022.7 in c:\\users\\beyond\\.conda\\envs\\ydata_profiling\\lib\\site-packages (from pandas<3.0.0,>=2.0.3->skimpy) (2024.1)\n",
      "Requirement already satisfied: griffe>=0.33 in c:\\users\\beyond\\.conda\\envs\\ydata_profiling\\lib\\site-packages (from quartodoc<0.8.0,>=0.7.2->skimpy) (0.41.0)\n",
      "Requirement already satisfied: sphobjinv>=2.3.1 in c:\\users\\beyond\\.conda\\envs\\ydata_profiling\\lib\\site-packages (from quartodoc<0.8.0,>=0.7.2->skimpy) (2.3.1)\n",
      "Requirement already satisfied: tabulate>=0.9.0 in c:\\users\\beyond\\.conda\\envs\\ydata_profiling\\lib\\site-packages (from quartodoc<0.8.0,>=0.7.2->skimpy) (0.9.0)\n",
      "Requirement already satisfied: importlib-metadata>=5.1.0 in c:\\users\\beyond\\.conda\\envs\\ydata_profiling\\lib\\site-packages (from quartodoc<0.8.0,>=0.7.2->skimpy) (7.0.1)\n",
      "Requirement already satisfied: importlib-resources>=5.10.2 in c:\\users\\beyond\\.conda\\envs\\ydata_profiling\\lib\\site-packages (from quartodoc<0.8.0,>=0.7.2->skimpy) (6.1.2)\n",
      "Requirement already satisfied: pydantic in c:\\users\\beyond\\.conda\\envs\\ydata_profiling\\lib\\site-packages (from quartodoc<0.8.0,>=0.7.2->skimpy) (2.6.3)\n",
      "Requirement already satisfied: pyyaml in c:\\users\\beyond\\.conda\\envs\\ydata_profiling\\lib\\site-packages (from quartodoc<0.8.0,>=0.7.2->skimpy) (6.0.1)\n",
      "Requirement already satisfied: watchdog>=3.0.0 in c:\\users\\beyond\\.conda\\envs\\ydata_profiling\\lib\\site-packages (from quartodoc<0.8.0,>=0.7.2->skimpy) (4.0.0)\n",
      "Requirement already satisfied: plum-dispatch>2.0.0 in c:\\users\\beyond\\.conda\\envs\\ydata_profiling\\lib\\site-packages (from quartodoc<0.8.0,>=0.7.2->skimpy) (2.3.2)\n",
      "Requirement already satisfied: markdown-it-py>=2.2.0 in c:\\users\\beyond\\.conda\\envs\\ydata_profiling\\lib\\site-packages (from rich<14.0,>=10.9->skimpy) (3.0.0)\n",
      "Requirement already satisfied: zipp>=0.5 in c:\\users\\beyond\\.conda\\envs\\ydata_profiling\\lib\\site-packages (from importlib-metadata>=5.1.0->quartodoc<0.8.0,>=0.7.2->skimpy) (3.17.0)\n",
      "Requirement already satisfied: decorator in c:\\users\\beyond\\.conda\\envs\\ydata_profiling\\lib\\site-packages (from ipython>=7.23.1->ipykernel<7.0.0,>=6.7.0->skimpy) (5.1.1)\n",
      "Requirement already satisfied: jedi>=0.16 in c:\\users\\beyond\\.conda\\envs\\ydata_profiling\\lib\\site-packages (from ipython>=7.23.1->ipykernel<7.0.0,>=6.7.0->skimpy) (0.19.1)\n",
      "Requirement already satisfied: prompt-toolkit<3.1.0,>=3.0.41 in c:\\users\\beyond\\.conda\\envs\\ydata_profiling\\lib\\site-packages (from ipython>=7.23.1->ipykernel<7.0.0,>=6.7.0->skimpy) (3.0.42)\n",
      "Requirement already satisfied: stack-data in c:\\users\\beyond\\.conda\\envs\\ydata_profiling\\lib\\site-packages (from ipython>=7.23.1->ipykernel<7.0.0,>=6.7.0->skimpy) (0.6.2)\n",
      "Requirement already satisfied: exceptiongroup in c:\\users\\beyond\\.conda\\envs\\ydata_profiling\\lib\\site-packages (from ipython>=7.23.1->ipykernel<7.0.0,>=6.7.0->skimpy) (1.2.0)\n",
      "Requirement already satisfied: platformdirs>=2.5 in c:\\users\\beyond\\.conda\\envs\\ydata_profiling\\lib\\site-packages (from jupyter-core!=5.0.*,>=4.12->ipykernel<7.0.0,>=6.7.0->skimpy) (4.2.0)\n",
      "Requirement already satisfied: pywin32>=300 in c:\\users\\beyond\\.conda\\envs\\ydata_profiling\\lib\\site-packages (from jupyter-core!=5.0.*,>=4.12->ipykernel<7.0.0,>=6.7.0->skimpy) (305.1)\n",
      "Requirement already satisfied: mdurl~=0.1 in c:\\users\\beyond\\.conda\\envs\\ydata_profiling\\lib\\site-packages (from markdown-it-py>=2.2.0->rich<14.0,>=10.9->skimpy) (0.1.2)\n",
      "Requirement already satisfied: beartype>=0.16.2 in c:\\users\\beyond\\.conda\\envs\\ydata_profiling\\lib\\site-packages (from plum-dispatch>2.0.0->quartodoc<0.8.0,>=0.7.2->skimpy) (0.17.2)\n",
      "Requirement already satisfied: six>=1.5 in c:\\users\\beyond\\.conda\\envs\\ydata_profiling\\lib\\site-packages (from python-dateutil>=2.8.2->pandas<3.0.0,>=2.0.3->skimpy) (1.16.0)\n",
      "Requirement already satisfied: attrs>=19.2 in c:\\users\\beyond\\.conda\\envs\\ydata_profiling\\lib\\site-packages (from sphobjinv>=2.3.1->quartodoc<0.8.0,>=0.7.2->skimpy) (23.2.0)\n",
      "Requirement already satisfied: certifi in c:\\users\\beyond\\.conda\\envs\\ydata_profiling\\lib\\site-packages (from sphobjinv>=2.3.1->quartodoc<0.8.0,>=0.7.2->skimpy) (2024.2.2)\n",
      "Requirement already satisfied: jsonschema>=3.0 in c:\\users\\beyond\\.conda\\envs\\ydata_profiling\\lib\\site-packages (from sphobjinv>=2.3.1->quartodoc<0.8.0,>=0.7.2->skimpy) (4.21.1)\n",
      "Requirement already satisfied: annotated-types>=0.4.0 in c:\\users\\beyond\\.conda\\envs\\ydata_profiling\\lib\\site-packages (from pydantic->quartodoc<0.8.0,>=0.7.2->skimpy) (0.6.0)\n",
      "Requirement already satisfied: pydantic-core==2.16.3 in c:\\users\\beyond\\.conda\\envs\\ydata_profiling\\lib\\site-packages (from pydantic->quartodoc<0.8.0,>=0.7.2->skimpy) (2.16.3)\n",
      "Requirement already satisfied: parso<0.9.0,>=0.8.3 in c:\\users\\beyond\\.conda\\envs\\ydata_profiling\\lib\\site-packages (from jedi>=0.16->ipython>=7.23.1->ipykernel<7.0.0,>=6.7.0->skimpy) (0.8.3)\n",
      "Requirement already satisfied: jsonschema-specifications>=2023.03.6 in c:\\users\\beyond\\.conda\\envs\\ydata_profiling\\lib\\site-packages (from jsonschema>=3.0->sphobjinv>=2.3.1->quartodoc<0.8.0,>=0.7.2->skimpy) (2023.12.1)\n",
      "Requirement already satisfied: referencing>=0.28.4 in c:\\users\\beyond\\.conda\\envs\\ydata_profiling\\lib\\site-packages (from jsonschema>=3.0->sphobjinv>=2.3.1->quartodoc<0.8.0,>=0.7.2->skimpy) (0.33.0)\n",
      "Requirement already satisfied: rpds-py>=0.7.1 in c:\\users\\beyond\\.conda\\envs\\ydata_profiling\\lib\\site-packages (from jsonschema>=3.0->sphobjinv>=2.3.1->quartodoc<0.8.0,>=0.7.2->skimpy) (0.18.0)\n",
      "Requirement already satisfied: wcwidth in c:\\users\\beyond\\.conda\\envs\\ydata_profiling\\lib\\site-packages (from prompt-toolkit<3.1.0,>=3.0.41->ipython>=7.23.1->ipykernel<7.0.0,>=6.7.0->skimpy) (0.2.13)\n",
      "Requirement already satisfied: executing>=1.2.0 in c:\\users\\beyond\\.conda\\envs\\ydata_profiling\\lib\\site-packages (from stack-data->ipython>=7.23.1->ipykernel<7.0.0,>=6.7.0->skimpy) (2.0.1)\n",
      "Requirement already satisfied: asttokens>=2.1.0 in c:\\users\\beyond\\.conda\\envs\\ydata_profiling\\lib\\site-packages (from stack-data->ipython>=7.23.1->ipykernel<7.0.0,>=6.7.0->skimpy) (2.4.1)\n",
      "Requirement already satisfied: pure-eval in c:\\users\\beyond\\.conda\\envs\\ydata_profiling\\lib\\site-packages (from stack-data->ipython>=7.23.1->ipykernel<7.0.0,>=6.7.0->skimpy) (0.2.2)\n",
      "Note: you may need to restart the kernel to use updated packages.\n"
     ]
    }
   ],
   "source": [
    "pip install skimpy"
   ]
  },
  {
   "cell_type": "code",
   "execution_count": 3,
   "metadata": {},
   "outputs": [],
   "source": [
    "# import libreries\n",
    "import pandas as pd\n",
    "import numpy as np\n",
    "import seaborn as sns\n",
    "from skimpy import skim"
   ]
  },
  {
   "cell_type": "code",
   "execution_count": null,
   "metadata": {},
   "outputs": [],
   "source": []
  }
 ],
 "metadata": {
  "kernelspec": {
   "display_name": "ydata_profiling",
   "language": "python",
   "name": "python3"
  },
  "language_info": {
   "codemirror_mode": {
    "name": "ipython",
    "version": 3
   },
   "file_extension": ".py",
   "mimetype": "text/x-python",
   "name": "python",
   "nbconvert_exporter": "python",
   "pygments_lexer": "ipython3",
   "version": "3.10.13"
  }
 },
 "nbformat": 4,
 "nbformat_minor": 2
}
